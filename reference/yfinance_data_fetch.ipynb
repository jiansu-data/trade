{
 "cells": [
  {
   "cell_type": "code",
   "execution_count": null,
   "metadata": {},
   "outputs": [],
   "source": [
    "import requests\n",
    "import numpy as np\n",
    "import pandas as pd\n",
    "\n",
    "link = 'https://quality.data.gov.tw/dq_download_json.php?nid=11549&md5_url=bb878d47ffbe7b83bfc1b41d0b24946e'\n",
    "r = requests.get(link)\n",
    "data = pd.DataFrame(r.json())\n",
    "\n",
    "data.to_csv(\".\" + '/stock_id.csv', index=False, header = True)"
   ]
  },
  {
   "cell_type": "code",
   "execution_count": null,
   "metadata": {},
   "outputs": [],
   "source": []
  },
  {
   "cell_type": "code",
   "execution_count": null,
   "metadata": {
    "scrolled": false
   },
   "outputs": [],
   "source": [
    "stock_list.columns\n",
    "#stock_list.columns = ['證券代號','證券名稱']\n",
    "#stock_list.columns[0].str.replace('STOCK_ID')\n",
    "#stock_list.columns[1]='NAME'\n",
    "stock_list.rename(columns={'證券代號':'STOCK_ID','證券名稱':'NAME'}, inplace=True)"
   ]
  },
  {
   "cell_type": "code",
   "execution_count": null,
   "metadata": {},
   "outputs": [],
   "source": [
    "stock_list.iloc[:,0:2]"
   ]
  },
  {
   "cell_type": "code",
   "execution_count": null,
   "metadata": {},
   "outputs": [],
   "source": []
  },
  {
   "cell_type": "code",
   "execution_count": null,
   "metadata": {},
   "outputs": [],
   "source": [
    "import yfinance as yf\n",
    "import h5py\n",
    "import pandas as pd\n",
    "import time\n",
    "\n",
    "# 讀取csv檔\n",
    "stock_list = pd.read_csv(\".\" + '/stock_id.csv')\n",
    "stock_list.rename(columns={'證券代號':'STOCK_ID','證券名稱':'NAME'}, inplace=True)\n",
    "\n",
    "historical_data = pd.DataFrame()\n",
    "\n",
    "for i in stock_list.index:    \n",
    "\n",
    "    # 抓取股票資料\n",
    "    stock_id = stock_list.loc[i, 'STOCK_ID'] + '.TW'\n",
    "    data = yf.Ticker(stock_id)\n",
    "    df = data.history(period=\"max\")\n",
    "\n",
    "    # 增加股票代號\n",
    "    df['STOCK_ID'] = stock_list.loc[i, 'STOCK_ID']\n",
    "\n",
    "    # 合併\n",
    "    historical_data = pd.concat([historical_data, df])\n",
    "    time.sleep(0.8)\n",
    "\n",
    "historical_data.to_hdf(\".\" + '/historical_data.h5', key='s')"
   ]
  },
  {
   "cell_type": "code",
   "execution_count": null,
   "metadata": {},
   "outputs": [],
   "source": [
    "historical_data.to_hdf(\".\" + '/historical_data.h5', key='s')"
   ]
  },
  {
   "cell_type": "code",
   "execution_count": null,
   "metadata": {},
   "outputs": [],
   "source": [
    "import pandas as pd"
   ]
  },
  {
   "cell_type": "code",
   "execution_count": null,
   "metadata": {},
   "outputs": [],
   "source": [
    "df  = pd.read_hdf(\".\" + '/historical_data.h5')"
   ]
  },
  {
   "cell_type": "code",
   "execution_count": null,
   "metadata": {},
   "outputs": [],
   "source": [
    "df.head()\n",
    "test = df['Adj Close'].copy()"
   ]
  },
  {
   "cell_type": "code",
   "execution_count": null,
   "metadata": {},
   "outputs": [],
   "source": [
    "test.columns = ['open', 'high', 'low', 'close', 'volume', 'openinterest', 'Stock Splits',\n",
    "       'STOCK_ID', 'Adj Close']\n",
    "test"
   ]
  },
  {
   "cell_type": "code",
   "execution_count": null,
   "metadata": {},
   "outputs": [],
   "source": []
  },
  {
   "cell_type": "code",
   "execution_count": null,
   "metadata": {},
   "outputs": [],
   "source": [
    "test = df.iloc[1:10,:].copy()"
   ]
  },
  {
   "cell_type": "code",
   "execution_count": null,
   "metadata": {},
   "outputs": [],
   "source": [
    "df[df.STOCK_ID == '1101']"
   ]
  },
  {
   "cell_type": "code",
   "execution_count": null,
   "metadata": {},
   "outputs": [],
   "source": []
  }
 ],
 "metadata": {
  "kernelspec": {
   "display_name": "Python 3",
   "language": "python",
   "name": "python3"
  },
  "language_info": {
   "codemirror_mode": {
    "name": "ipython",
    "version": 3
   },
   "file_extension": ".py",
   "mimetype": "text/x-python",
   "name": "python",
   "nbconvert_exporter": "python",
   "pygments_lexer": "ipython3",
   "version": "3.7.7"
  }
 },
 "nbformat": 4,
 "nbformat_minor": 4
}
